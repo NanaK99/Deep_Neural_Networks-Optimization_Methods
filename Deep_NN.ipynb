{
  "nbformat": 4,
  "nbformat_minor": 0,
  "metadata": {
    "colab": {
      "name": "Nana_Karapetyan_Deep_Neural_Network_Step_by_Step.ipynb",
      "provenance": [],
      "collapsed_sections": []
    },
    "kernelspec": {
      "name": "python3",
      "display_name": "Python 3"
    }
  },
  "cells": [
    {
      "cell_type": "markdown",
      "metadata": {
        "id": "N8adspsYzRIf",
        "colab_type": "text"
      },
      "source": [
        "# Building your Deep Neural Network: Step by Step\n",
        "\n",
        "You have previously trained a 2-layer Neural Network (with a single hidden layer). This time, you will build a deep neural network, with as many layers as you want!\n",
        "\n",
        "- In this notebook, you will implement all the functions required to build a deep neural network.\n",
        "- In the next assignment, you will use these functions to build a deep neural network for image classification.\n",
        "\n",
        "**After this assignment you will be able to:**\n",
        "- Use non-linear units like ReLU to improve your model\n",
        "- Build a deeper neural network (with more than 1 hidden layer)\n",
        "- Implement an easy-to-use neural network class\n",
        "\n",
        "**Notation**:\n",
        "- Superscript $[l]$ denotes a quantity associated with the $l^{th}$ layer. \n",
        "    - Example: $a^{[L]}$ is the $L^{th}$ layer activation. $W^{[L]}$ and $b^{[L]}$ are the $L^{th}$ layer parameters.\n",
        "- Superscript $(i)$ denotes a quantity associated with the $i^{th}$ example. \n",
        "    - Example: $x^{(i)}$ is the $i^{th}$ training example.\n",
        "- Lowerscript $i$ denotes the $i^{th}$ entry of a vector.\n",
        "    - Example: $a^{[l]}_i$ denotes the $i^{th}$ entry of the $l^{th}$ layer's activations).\n",
        "\n",
        "Let's get started!"
      ]
    },
    {
      "cell_type": "markdown",
      "metadata": {
        "id": "KwwVTYcszRIh",
        "colab_type": "text"
      },
      "source": [
        "## 1 - Packages\n",
        "\n",
        "Let's first import all the packages that you will need during this assignment. \n",
        "- [torch](https://pytorch.org/) is a package for Deep Learning.\n",
        "- [matplotlib](http://matplotlib.org) is a library to plot graphs in Python.\n",
        "- dnn_utils provides some necessary functions for this notebook.\n",
        "- testCases provides some test cases to assess the correctness of your functions\n",
        "- torch.manual_seed(1) is used to keep all the random function calls consistent. It will help us grade your work. Please don't change the seed. "
      ]
    },
    {
      "cell_type": "code",
      "metadata": {
        "id": "cH1OKBgMwtNF",
        "colab_type": "code",
        "outputId": "2747c5b9-ba89-40c3-d79d-be9337ce2750",
        "colab": {
          "base_uri": "https://localhost:8080/",
          "height": 34
        }
      },
      "source": [
        "from google.colab import drive\n",
        "drive.mount('/content/gdrive')"
      ],
      "execution_count": 26,
      "outputs": [
        {
          "output_type": "stream",
          "text": [
            "Drive already mounted at /content/gdrive; to attempt to forcibly remount, call drive.mount(\"/content/gdrive\", force_remount=True).\n"
          ],
          "name": "stdout"
        }
      ]
    },
    {
      "cell_type": "code",
      "metadata": {
        "id": "quFZmKGZxSVU",
        "colab_type": "code",
        "colab": {}
      },
      "source": [
        "1# Some of the functions are stored in external files. \n",
        "# So that the loader could find those files, we need to explicitly show the path where they are stored\n",
        "# The path to files may differ in your case... \n",
        "import sys\n",
        "sys.path.append('/content/gdrive/My Drive/AUA/AUA 2020 Spring/Deep Learning/DL_HW4')"
      ],
      "execution_count": 0,
      "outputs": []
    },
    {
      "cell_type": "code",
      "metadata": {
        "id": "Mes64tU6zRIi",
        "colab_type": "code",
        "outputId": "93a32a65-bc00-40b8-ba0a-89721c6cb42f",
        "colab": {
          "base_uri": "https://localhost:8080/",
          "height": 69
        }
      },
      "source": [
        "import torch\n",
        "import h5py\n",
        "import matplotlib.pyplot as plt\n",
        "from testCases_v4a_Pytorch import *\n",
        "from dnn_utils_v2_Pytorch import sigmoid, sigmoid_backward, relu, relu_backward\n",
        "\n",
        "%matplotlib inline\n",
        "plt.rcParams['figure.figsize'] = (5.0, 4.0) # set default size of plots\n",
        "plt.rcParams['image.interpolation'] = 'nearest'\n",
        "plt.rcParams['image.cmap'] = 'gray'\n",
        "\n",
        "%load_ext autoreload\n",
        "%autoreload 2\n",
        "\n",
        "torch.set_printoptions(precision=10) # shows 10 digits after the floating dot\n",
        "\n",
        "torch.manual_seed(1)"
      ],
      "execution_count": 28,
      "outputs": [
        {
          "output_type": "stream",
          "text": [
            "The autoreload extension is already loaded. To reload it, use:\n",
            "  %reload_ext autoreload\n"
          ],
          "name": "stdout"
        },
        {
          "output_type": "execute_result",
          "data": {
            "text/plain": [
              "<torch._C.Generator at 0x7f295dd76390>"
            ]
          },
          "metadata": {
            "tags": []
          },
          "execution_count": 28
        }
      ]
    },
    {
      "cell_type": "markdown",
      "metadata": {
        "id": "d0a0GTuwzRIl",
        "colab_type": "text"
      },
      "source": [
        "## 2 - Outline of the Assignment\n",
        "\n",
        "To build your neural network, you will be implementing several \"helper functions\". These helper functions will be used in the next assignment to build a two-layer neural network and an L-layer neural network. Each small helper function you will implement will have detailed instructions that will walk you through the necessary steps. Here is an outline of this assignment, you will:\n",
        "\n",
        "- Initialize the parameters for a two-layer network and for an $L$-layer neural network.\n",
        "- Implement the forward propagation module (shown in purple in the figure below).\n",
        "     - Complete the LINEAR part of a layer's forward propagation step (resulting in $Z^{[l]}$).\n",
        "     - We give you the ACTIVATION function (relu/sigmoid).\n",
        "     - Combine the previous two steps into a new [LINEAR->ACTIVATION] forward function.\n",
        "     - Stack the [LINEAR->RELU] forward function L-1 time (for layers 1 through L-1) and add a [LINEAR->SIGMOID] at the end (for the final layer $L$). This gives you a new L_model_forward function.\n",
        "- Compute the loss.\n",
        "- Implement the backward propagation module (denoted in red in the figure below).\n",
        "    - Complete the LINEAR part of a layer's backward propagation step.\n",
        "    - We give you the gradient of the ACTIVATE function (relu_backward/sigmoid_backward) \n",
        "    - Combine the previous two steps into a new [LINEAR->ACTIVATION] backward function.\n",
        "    - Stack [LINEAR->RELU] backward L-1 times and add [LINEAR->SIGMOID] backward in a new L_model_backward function\n",
        "- Finally update the parameters.\n",
        "\n",
        "![final outline.png](https://drive.google.com/uc?id=1kc27j_tbG02ocE02qhYYk0mpJpmGi9XE)\n",
        "\n",
        "<caption><center> **Figure 1 (final_outline.png)**</center></caption><br>\n",
        "\n",
        "\n",
        "**Note** that for every forward function, there is a corresponding backward function. That is why at every step of your forward module you will be storing some values in a cache. The cached values are useful for computing gradients. In the backpropagation module you will then use the cache to calculate the gradients. This assignment will show you exactly how to carry out each of these steps. "
      ]
    },
    {
      "cell_type": "markdown",
      "metadata": {
        "id": "8nDmIpsVzRIm",
        "colab_type": "text"
      },
      "source": [
        "## 3 - Initialization\n",
        "\n",
        "You will write two helper functions that will initialize the parameters for your model. The first function will be used to initialize parameters for a two layer model. The second one will generalize this initialization process to $L$ layers.\n",
        "\n",
        "### 3.1 - 2-layer Neural Network\n",
        "\n",
        "**Exercise**: Create and initialize the parameters of the 2-layer neural network.\n",
        "\n",
        "**Instructions**:\n",
        "- The model's structure is: *LINEAR -> RELU -> LINEAR -> SIGMOID*. \n",
        "- Use random initialization for the weight matrices. Use `torch.randn(shape)*0.01` with the correct shape.\n",
        "- Use zero initialization for the biases. Use `torch.zeros(shape)`."
      ]
    },
    {
      "cell_type": "code",
      "metadata": {
        "id": "QdbusWUAzRIm",
        "colab_type": "code",
        "colab": {}
      },
      "source": [
        "# GRADED FUNCTION: initialize_parameters\n",
        "\n",
        "def initialize_parameters(n_x, n_h, n_y):\n",
        "    \"\"\"\n",
        "    Argument:\n",
        "    n_x -- size of the input layer\n",
        "    n_h -- size of the hidden layer\n",
        "    n_y -- size of the output layer\n",
        "    \n",
        "    Returns:\n",
        "    parameters -- python dictionary containing your parameters:\n",
        "                    W1 -- weight matrix of shape (n_h, n_x)\n",
        "                    b1 -- bias vector of shape (n_h, 1)\n",
        "                    W2 -- weight matrix of shape (n_y, n_h)\n",
        "                    b2 -- bias vector of shape (n_y, 1)\n",
        "    \"\"\"\n",
        "    \n",
        "    torch.manual_seed(1)\n",
        "    \n",
        "    ### START CODE HERE ### (≈ 4 lines of code)\n",
        "    W1 = torch.randn(n_h, n_x)*0.01\n",
        "    b1 = torch.zeros((n_h, 1))\n",
        "    W2 = torch.randn(n_y, n_h)*0.01\n",
        "    b2 = torch.zeros((n_y, 1))\n",
        "    ### END CODE HERE ###\n",
        "    \n",
        "    assert(W1.shape == (n_h, n_x))\n",
        "    assert(b1.shape == (n_h, 1))\n",
        "    assert(W2.shape == (n_y, n_h))\n",
        "    assert(b2.shape == (n_y, 1))\n",
        "    \n",
        "    parameters = {\"W1\": W1,\n",
        "                  \"b1\": b1,\n",
        "                  \"W2\": W2,\n",
        "                  \"b2\": b2}\n",
        "    \n",
        "    return parameters    "
      ],
      "execution_count": 0,
      "outputs": []
    },
    {
      "cell_type": "code",
      "metadata": {
        "scrolled": true,
        "id": "jL-RTI14zRIp",
        "colab_type": "code",
        "outputId": "43194188-0bbc-46f3-b671-dc66559bfe99",
        "colab": {
          "base_uri": "https://localhost:8080/",
          "height": 121
        }
      },
      "source": [
        "parameters = initialize_parameters(3,2,1)\n",
        "print(\"W1 = \" + str(parameters[\"W1\"]))\n",
        "print(\"b1 = \" + str(parameters[\"b1\"]))\n",
        "print(\"W2 = \" + str(parameters[\"W2\"]))\n",
        "print(\"b2 = \" + str(parameters[\"b2\"]))"
      ],
      "execution_count": 30,
      "outputs": [
        {
          "output_type": "stream",
          "text": [
            "W1 = tensor([[ 0.0066135214,  0.0026692410,  0.0006167726],\n",
            "        [ 0.0062131733, -0.0045190598, -0.0016613023]])\n",
            "b1 = tensor([[0.],\n",
            "        [0.]])\n",
            "W2 = tensor([[-0.0152276848,  0.0038168391]])\n",
            "b2 = tensor([[0.]])\n"
          ],
          "name": "stdout"
        }
      ]
    },
    {
      "cell_type": "markdown",
      "metadata": {
        "id": "hKOQvuhVzRIr",
        "colab_type": "text"
      },
      "source": [
        "**Expected output**:\n",
        "       \n",
        "<table style=\"width:80%\">\n",
        "  <tr>\n",
        "    <td> **W1** </td>\n",
        "    <td> [[ 0.0066135214,  0.0026692410,  0.0006167726],\n",
        "        [ 0.0062131733, -0.0045190598, -0.0016613023]] </td> \n",
        "  </tr>\n",
        "\n",
        "  <tr>\n",
        "    <td> **b1**</td>\n",
        "    <td>[[0.],\n",
        "        [0.]]</td> \n",
        "  </tr>\n",
        "  \n",
        "  <tr>\n",
        "    <td>**W2**</td>\n",
        "    <td> [[-0.0152276848,  0.0038168391]]</td>\n",
        "  </tr>\n",
        "  \n",
        "  <tr>\n",
        "    <td> **b2** </td>\n",
        "    <td> [[0.]] </td> \n",
        "  </tr>\n",
        "  \n",
        "</table>"
      ]
    },
    {
      "cell_type": "markdown",
      "metadata": {
        "id": "mnpFZRpmzRIs",
        "colab_type": "text"
      },
      "source": [
        "### 3.2 - L-layer Neural Network\n",
        "\n",
        "The initialization for a deeper L-layer neural network is more complicated because there are many more weight matrices and bias vectors. When completing the `initialize_parameters_deep`, you should make sure that your dimensions match between each layer. Recall that $n^{[l]}$ is the number of units in layer $l$. Thus for example if the size of our input $X$ is $(12288, 209)$ (with $m=209$ examples) then:\n",
        "\n",
        "\n",
        "<table style=\"width:100%\">\n",
        "  <col width=\"10\">\n",
        "  <col width=\"100\">\n",
        "  <col width=\"100\">\n",
        "  <col width=\"200\">\n",
        "  <col width=\"100\">\n",
        "  <tr>\n",
        "     <th> </th> \n",
        "     <th>Shape of W</th> \n",
        "     <th>Shape of b</th> \n",
        "     <th>Activation</th>\n",
        "     <th>Shape of Activation</th> \n",
        "  </tr>\n",
        "    \n",
        "  <tr>\n",
        "     <th> Layer 1 </th> \n",
        "     <td> $(n^{[1]},12288)$ </td> \n",
        "     <td> $(n^{[1]},1)$ </td> \n",
        "     <td> $Z^{[1]} = W^{[1]}  X + b^{[1]} $ </td>       \n",
        "     <td> $(n^{[1]},209)$ </td> \n",
        "  </tr>\n",
        "    \n",
        "  <tr>\n",
        "     <th> Layer 2 </th> \n",
        "     <td> $(n^{[2]}, n^{[1]})$  </td> \n",
        "     <td> $(n^{[2]},1)$ </td> \n",
        "     <td>$Z^{[2]} = W^{[2]} A^{[1]} + b^{[2]}$ </td> \n",
        "     <td> $(n^{[2]}, 209)$ </td> \n",
        "  </tr>\n",
        "   \n",
        "  <tr>\n",
        "      <td> </td> \n",
        "      <td> $\\vdots$  </td> \n",
        "      <td> $\\vdots$  </td> \n",
        "      <td> $\\vdots$  </td> \n",
        "      <td> $\\vdots$  </td> \n",
        "  </tr>\n",
        "  \n",
        "  <tr>\n",
        "      <th> Layer L-1 </th> \n",
        "      <td> $(n^{[L-1]}, n^{[L-2]})$ </td> \n",
        "      <td> $(n^{[L-1]}, 1)$  </td> \n",
        "      <td>$Z^{[L-1]} =  W^{[L-1]} A^{[L-2]} + b^{[L-1]}$ </td> \n",
        "      <td> $(n^{[L-1]}, 209)$ </td> \n",
        "  </tr>\n",
        "  \n",
        "  \n",
        "  <tr>\n",
        "      <th> Layer L </th> \n",
        "      <td> $(n^{[L]}, n^{[L-1]})$ </td> \n",
        "      <td> $(n^{[L]}, 1)$ </td>\n",
        "      <td> $Z^{[L]} =  W^{[L]} A^{[L-1]} + b^{[L]}$</td>\n",
        "      <td> $(n^{[L]}, 209)$  </td> \n",
        "  </tr>\n",
        "\n",
        "</table>\n",
        "\n",
        "Remember that when we compute $W X + b$ in python, it carries out broadcasting. For example, if: \n",
        "\n",
        "$$ W = \\begin{bmatrix}\n",
        "    j  & k  & l\\\\\n",
        "    m  & n & o \\\\\n",
        "    p  & q & r \n",
        "\\end{bmatrix}\\;\\;\\; X = \\begin{bmatrix}\n",
        "    a  & b  & c\\\\\n",
        "    d  & e & f \\\\\n",
        "    g  & h & i \n",
        "\\end{bmatrix} \\;\\;\\; b =\\begin{bmatrix}\n",
        "    s  \\\\\n",
        "    t  \\\\\n",
        "    u\n",
        "\\end{bmatrix}\\tag{2}$$\n",
        "\n",
        "Then $WX + b$ will be:\n",
        "\n",
        "$$ WX + b = \\begin{bmatrix}\n",
        "    (ja + kd + lg) + s  & (jb + ke + lh) + s  & (jc + kf + li)+ s\\\\\n",
        "    (ma + nd + og) + t & (mb + ne + oh) + t & (mc + nf + oi) + t\\\\\n",
        "    (pa + qd + rg) + u & (pb + qe + rh) + u & (pc + qf + ri)+ u\n",
        "\\end{bmatrix}\\tag{3}  $$"
      ]
    },
    {
      "cell_type": "markdown",
      "metadata": {
        "id": "4iLlicJgzRIs",
        "colab_type": "text"
      },
      "source": [
        "**Exercise**: Implement initialization for an L-layer Neural Network. \n",
        "\n",
        "**Instructions**:\n",
        "- The model's structure is *[LINEAR -> RELU] $ \\times$ (L-1) -> LINEAR -> SIGMOID*. I.e., it has $L-1$ layers using a ReLU activation function followed by an output layer with a sigmoid activation function.\n",
        "- Use random initialization for the weight matrices. Use `torch.randn(shape) * 0.01`.\n",
        "- Use zeros initialization for the biases. Use `torch.zeros(shape)`.\n",
        "- We will store $n^{[l]}$, the number of units in different layers, in a variable `layer_dims`. For example, the `layer_dims` for the \"Planar Data classification model\" from last week would have been [2,4,1]: There were two inputs, one hidden layer with 4 hidden units, and an output layer with 1 output unit. This means `W1`'s shape was (4,2), `b1` was (4,1), `W2` was (1,4) and `b2` was (1,1). Now you will generalize this to $L$ layers! \n",
        "- Here is the implementation for $L=1$ (one layer neural network). It should inspire you to implement the general case (L-layer neural network).\n",
        "```python\n",
        "    if L == 1:\n",
        "        parameters[\"W\" + str(L)] = torch.randn(layer_dims[1], layer_dims[0]) * 0.01\n",
        "        parameters[\"b\" + str(L)] = torch.zeros((layer_dims[1], 1))\n",
        "```"
      ]
    },
    {
      "cell_type": "code",
      "metadata": {
        "id": "CuDq1l4HzRIt",
        "colab_type": "code",
        "colab": {}
      },
      "source": [
        "# GRADED FUNCTION: initialize_parameters_deep\n",
        "\n",
        "def initialize_parameters_deep(layer_dims):\n",
        "    \"\"\"\n",
        "    Arguments:\n",
        "    layer_dims -- python array (list) containing the dimensions of each layer in our network\n",
        "    \n",
        "    Returns:\n",
        "    parameters -- python dictionary containing your parameters \"W1\", \"b1\", ..., \"WL\", \"bL\":\n",
        "                    Wl -- weight matrix of shape (layer_dims[l], layer_dims[l-1])\n",
        "                    bl -- bias vector of shape (layer_dims[l], 1)\n",
        "    \"\"\"\n",
        "    \n",
        "    torch.manual_seed(3)\n",
        "    parameters = {}\n",
        "    L = len(layer_dims)            # number of layers in the network\n",
        "\n",
        "    for l in range(1, L):\n",
        "        ### START CODE HERE ### (≈ 2 lines of code)\n",
        "        parameters['W' + str(l)] = torch.randn(layer_dims[l], layer_dims[l-1]) * 0.01\n",
        "        parameters['b' + str(l)] = torch.zeros((layer_dims[l], 1))\n",
        "        ### END CODE HERE ###\n",
        "        \n",
        "        assert(parameters['W' + str(l)].shape == (layer_dims[l], layer_dims[l-1]))\n",
        "        assert(parameters['b' + str(l)].shape == (layer_dims[l], 1))\n",
        "\n",
        "        \n",
        "    return parameters"
      ],
      "execution_count": 0,
      "outputs": []
    },
    {
      "cell_type": "code",
      "metadata": {
        "id": "wOPrCOkdzRIv",
        "colab_type": "code",
        "outputId": "ae9e916a-073c-438d-f2b0-61ba84b8b69d",
        "colab": {
          "base_uri": "https://localhost:8080/",
          "height": 329
        }
      },
      "source": [
        "parameters = initialize_parameters_deep([5,4,3])\n",
        "print(\"W1 = \" + str(parameters[\"W1\"]))\n",
        "print(\"b1 = \" + str(parameters[\"b1\"]))\n",
        "print(\"W2 = \" + str(parameters[\"W2\"]))\n",
        "print(\"b2 = \" + str(parameters[\"b2\"]))"
      ],
      "execution_count": 32,
      "outputs": [
        {
          "output_type": "stream",
          "text": [
            "W1 = tensor([[-0.0007664429,  0.0035988151, -0.0078201676,  0.0007152773,\n",
            "          0.0104602277],\n",
            "        [ 0.0052218698, -0.0016680915,  0.0005303340,  0.0040460713,\n",
            "          0.0061129960],\n",
            "        [ 0.0076039038, -0.0003364326,  0.0099792238,  0.0045918045,\n",
            "          0.0243639704],\n",
            "        [-0.0014680817,  0.0048511401,  0.0020523437,  0.0033842819,\n",
            "          0.0135275396]])\n",
            "b1 = tensor([[0.],\n",
            "        [0.],\n",
            "        [0.],\n",
            "        [0.]])\n",
            "W2 = tensor([[ 0.0049518901, -0.0016431698, -0.0067796218, -0.0105910739],\n",
            "        [ 0.0074769664,  0.0023891740, -0.0039215023,  0.0015191489],\n",
            "        [-0.0118373316,  0.0053436072, -0.0145102274, -0.0062937401]])\n",
            "b2 = tensor([[0.],\n",
            "        [0.],\n",
            "        [0.]])\n"
          ],
          "name": "stdout"
        }
      ]
    },
    {
      "cell_type": "markdown",
      "metadata": {
        "id": "p4-ZAO_0zRIy",
        "colab_type": "text"
      },
      "source": [
        "**Expected output**:\n",
        "       \n",
        "<table style=\"width:80%\">\n",
        "  <tr>\n",
        "    <td> **W1** </td>\n",
        "    <td>[[-0.0007664429,  0.0035988151, -0.0078201676,  0.0007152773,\n",
        "          0.0104602277],\n",
        "        [ 0.0052218698, -0.0016680915,  0.0005303340,  0.0040460713,\n",
        "          0.0061129960],\n",
        "        [ 0.0076039038, -0.0003364326,  0.0099792238,  0.0045918045,\n",
        "          0.0243639704],\n",
        "        [-0.0014680817,  0.0048511401,  0.0020523437,  0.0033842819,\n",
        "          0.0135275396]]</td> \n",
        "  </tr>\n",
        "  \n",
        "  <tr>\n",
        "    <td>**b1** </td>\n",
        "    <td>[[ 0.]\n",
        " [ 0.]\n",
        " [ 0.]\n",
        " [ 0.]]</td> \n",
        "  </tr>\n",
        "  \n",
        "  <tr>\n",
        "    <td>**W2** </td>\n",
        "    <td>[[ 0.0049518901, -0.0016431698, -0.0067796218, -0.0105910739],\n",
        "        [ 0.0074769664,  0.0023891740, -0.0039215023,  0.0015191489],\n",
        "        [-0.0118373316,  0.0053436072, -0.0145102274, -0.0062937401]]</td> \n",
        "  </tr>\n",
        "  \n",
        "  <tr>\n",
        "    <td>**b2** </td>\n",
        "    <td>[[ 0.]\n",
        " [ 0.]\n",
        " [ 0.]]</td> \n",
        "  </tr>\n",
        "  \n",
        "</table>"
      ]
    },
    {
      "cell_type": "markdown",
      "metadata": {
        "id": "c5uupSrHzRIy",
        "colab_type": "text"
      },
      "source": [
        "## 4 - Forward propagation module\n",
        "\n",
        "### 4.1 - Linear Forward \n",
        "Now that you have initialized your parameters, you will do the forward propagation module. You will start by implementing some basic functions that you will use later when implementing the model. You will complete three functions in this order:\n",
        "\n",
        "- LINEAR\n",
        "- LINEAR -> ACTIVATION where ACTIVATION will be either ReLU or Sigmoid. \n",
        "- [LINEAR -> RELU] $\\times$ (L-1) -> LINEAR -> SIGMOID (whole model)\n",
        "\n",
        "The linear forward module (vectorized over all the examples) computes the following equations:\n",
        "\n",
        "$$Z^{[l]} = W^{[l]}A^{[l-1]} +b^{[l]}\\tag{4}$$\n",
        "\n",
        "where $A^{[0]} = X$. \n",
        "\n",
        "**Exercise**: Build the linear part of forward propagation.\n",
        "\n",
        "**Reminder**:\n",
        "The mathematical representation of this unit is $Z^{[l]} = W^{[l]}A^{[l-1]} +b^{[l]}$. You may also find `torch.matmul` or, binary operator '@' (which is identical to torhch.matmul) useful. If your dimensions don't match, printing `W.shape` may help."
      ]
    },
    {
      "cell_type": "code",
      "metadata": {
        "id": "97WB-p8BzRIz",
        "colab_type": "code",
        "colab": {}
      },
      "source": [
        "# GRADED FUNCTION: linear_forward\n",
        "\n",
        "def linear_forward(A, W, b):\n",
        "    \"\"\"\n",
        "    Implement the linear part of a layer's forward propagation.\n",
        "\n",
        "    Arguments:\n",
        "    A -- activations from previous layer (or input data): (size of previous layer, number of examples)\n",
        "    W -- weights matrix: tensor of shape (size of current layer, size of previous layer)\n",
        "    b -- bias vector, tensor of shape (size of the current layer, 1)\n",
        "\n",
        "    Returns:\n",
        "    Z -- the input of the activation function, also called pre-activation parameter \n",
        "    cache -- a python tuple containing \"A\", \"W\" and \"b\" ; stored for computing the backward pass efficiently\n",
        "    \"\"\"\n",
        "    \n",
        "    ### START CODE HERE ### (≈ 1 line of code)\n",
        "    Z = W@A + b\n",
        "    ### END CODE HERE ###\n",
        "    \n",
        "    assert(Z.shape == (W.shape[0], A.shape[1]))\n",
        "    cache = (A, W, b)\n",
        "    \n",
        "    return Z, cache"
      ],
      "execution_count": 0,
      "outputs": []
    },
    {
      "cell_type": "code",
      "metadata": {
        "id": "jFBj71ejzRI1",
        "colab_type": "code",
        "outputId": "98ececce-0238-4d67-bf04-4d52eebee916",
        "colab": {
          "base_uri": "https://localhost:8080/",
          "height": 34
        }
      },
      "source": [
        "A, W, b = linear_forward_test_case()\n",
        "\n",
        "Z, linear_cache = linear_forward(A, W, b)\n",
        "print(\"Z = \" + str(Z))"
      ],
      "execution_count": 34,
      "outputs": [
        {
          "output_type": "stream",
          "text": [
            "Z = tensor([[-1.0822153091, -0.5616527200]])\n"
          ],
          "name": "stdout"
        }
      ]
    },
    {
      "cell_type": "markdown",
      "metadata": {
        "id": "yXNv5kpvzRI3",
        "colab_type": "text"
      },
      "source": [
        "**Expected output**:\n",
        "\n",
        "<table style=\"width:35%\">\n",
        "  \n",
        "  <tr>\n",
        "    <td> **Z** </td>\n",
        "    <td> [[-1.0822153091, -0.5616527200]] </td> \n",
        "  </tr>\n",
        "  \n",
        "</table>"
      ]
    },
    {
      "cell_type": "markdown",
      "metadata": {
        "id": "fQgR-SqVzRI4",
        "colab_type": "text"
      },
      "source": [
        "### 4.2 - Linear-Activation Forward\n",
        "\n",
        "In this notebook, you will use two activation functions:\n",
        "\n",
        "- **Sigmoid**: $\\sigma(Z) = \\sigma(W A + b) = \\frac{1}{ 1 + e^{-(W A + b)}}$. We have provided you with the `sigmoid` function. This function returns **two** items: the activation value \"`a`\" and a \"`cache`\" that contains \"`Z`\" (it's what we will feed in to the corresponding backward function). To use it you could just call: \n",
        "``` python\n",
        "A, activation_cache = sigmoid(Z)\n",
        "```\n",
        "\n",
        "- **ReLU**: The mathematical formula for ReLu is $A = RELU(Z) = max(0, Z)$. We have provided you with the `relu` function. This function returns **two** items: the activation value \"`A`\" and a \"`cache`\" that contains \"`Z`\" (it's what we will feed in to the corresponding backward function). To use it you could just call:\n",
        "``` python\n",
        "A, activation_cache = relu(Z)\n",
        "```"
      ]
    },
    {
      "cell_type": "markdown",
      "metadata": {
        "id": "_r3BAyS8zRI5",
        "colab_type": "text"
      },
      "source": [
        "For more convenience, you are going to group two functions (Linear and Activation) into one function (LINEAR->ACTIVATION). Hence, you will implement a function that does the LINEAR forward step followed by an ACTIVATION forward step.\n",
        "\n",
        "**Exercise**: Implement the forward propagation of the *LINEAR->ACTIVATION* layer. Mathematical relation is: $A^{[l]} = g(Z^{[l]}) = g(W^{[l]}A^{[l-1]} +b^{[l]})$ where the activation \"g\" can be sigmoid() or relu(). Use linear_forward() and the correct activation function."
      ]
    },
    {
      "cell_type": "code",
      "metadata": {
        "id": "pW2Z8LPKzRI5",
        "colab_type": "code",
        "colab": {}
      },
      "source": [
        "# GRADED FUNCTION: linear_activation_forward\n",
        "\n",
        "def linear_activation_forward(A_prev, W, b, activation):\n",
        "    \"\"\"\n",
        "    Implement the forward propagation for the LINEAR->ACTIVATION layer\n",
        "\n",
        "    Arguments:\n",
        "    A_prev -- activations from previous layer (or input data): (size of previous layer, number of examples)\n",
        "    W -- weights matrix: tensor of shape (size of current layer, size of previous layer)\n",
        "    b -- bias vector, tensor of shape (size of the current layer, 1)\n",
        "    activation -- the activation to be used in this layer, stored as a text string: \"sigmoid\" or \"relu\"\n",
        "\n",
        "    Returns:\n",
        "    A -- the output of the activation function, also called the post-activation value \n",
        "    cache -- a python tuple containing \"linear_cache\" and \"activation_cache\";\n",
        "             stored for computing the backward pass efficiently\n",
        "    \"\"\"\n",
        "    \n",
        "    if activation == \"sigmoid\":\n",
        "        # Inputs: \"A_prev, W, b\". Outputs: \"A, activation_cache\".\n",
        "        ### START CODE HERE ### (≈ 2 lines of code)\n",
        "        Z, linear_cache = linear_forward(A_prev, W, b)\n",
        "        A, activation_cache = sigmoid(Z)\n",
        "        ### END CODE HERE ###\n",
        "    \n",
        "    elif activation == \"relu\":\n",
        "        # Inputs: \"A_prev, W, b\". Outputs: \"A, activation_cache\".\n",
        "        ### START CODE HERE ### (≈ 2 lines of code)\n",
        "        Z, linear_cache = linear_forward(A_prev, W, b)\n",
        "        A, activation_cache = relu(Z)\n",
        "        ### END CODE HERE ###\n",
        "    \n",
        "    assert (A.shape == (W.shape[0], A_prev.shape[1]))\n",
        "    cache = (linear_cache, activation_cache)\n",
        "\n",
        "    return A, cache"
      ],
      "execution_count": 0,
      "outputs": []
    },
    {
      "cell_type": "code",
      "metadata": {
        "id": "Knql58s4zRI7",
        "colab_type": "code",
        "outputId": "3d3137b9-6a60-477d-e795-a2d67d454ed6",
        "colab": {
          "base_uri": "https://localhost:8080/",
          "height": 52
        }
      },
      "source": [
        "A_prev, W, b = linear_activation_forward_test_case()\n",
        "\n",
        "A, linear_activation_cache = linear_activation_forward(A_prev, W, b, activation = \"sigmoid\")\n",
        "print(\"With sigmoid: A = \" + str(A))\n",
        "\n",
        "A, linear_activation_cache = linear_activation_forward(A_prev, W, b, activation = \"relu\")\n",
        "print(\"With ReLU: A = \" + str(A))"
      ],
      "execution_count": 36,
      "outputs": [
        {
          "output_type": "stream",
          "text": [
            "With sigmoid: A = tensor([[0.1978137195, 0.1715756804]])\n",
            "With ReLU: A = tensor([[0., 0.]])\n"
          ],
          "name": "stdout"
        }
      ]
    },
    {
      "cell_type": "markdown",
      "metadata": {
        "id": "0tGV8JjwzRI9",
        "colab_type": "text"
      },
      "source": [
        "**Expected output**:\n",
        "       \n",
        "<table style=\"width:35%\">\n",
        "  <tr>\n",
        "    <td> **With sigmoid: A ** </td>\n",
        "    <td > [[0.1978137195, 0.1715756804]]</td> \n",
        "  </tr>\n",
        "  <tr>\n",
        "    <td> **With ReLU: A ** </td>\n",
        "    <td > [[0., 0.]]</td> \n",
        "  </tr>\n",
        "</table>\n"
      ]
    },
    {
      "cell_type": "markdown",
      "metadata": {
        "id": "AHe0__ZizRI-",
        "colab_type": "text"
      },
      "source": [
        "**Note**: In deep learning, the \"[LINEAR->ACTIVATION]\" computation is counted as a single layer in the neural network, not two layers. "
      ]
    },
    {
      "cell_type": "markdown",
      "metadata": {
        "id": "F9y-azHTzRI_",
        "colab_type": "text"
      },
      "source": [
        "### d) L-Layer Model \n",
        "\n",
        "For even more convenience when implementing the $L$-layer Neural Net, you will need a function that replicates the previous one (`linear_activation_forward` with RELU) $L-1$ times, then follows that with one `linear_activation_forward` with SIGMOID.\n",
        "\n",
        "![model architecture kiank.png](https://drive.google.com/uc?id=1CFGdby0pDFmN1BPp76KoqkPKfVejvVEc)\n",
        "\n",
        "<caption><center> **Figure 2 (model_architecture_kiank.png)** : *[LINEAR -> RELU] $\\times$ (L-1) -> LINEAR -> SIGMOID* model</center></caption><br>\n",
        "\n",
        "**Exercise**: Implement the forward propagation of the above model.\n",
        "\n",
        "**Instruction**: In the code below, the variable `AL` will denote $A^{[L]} = \\sigma(Z^{[L]}) = \\sigma(W^{[L]} A^{[L-1]} + b^{[L]})$. (This is sometimes also called `Yhat`, i.e., this is $\\hat{Y}$.) \n",
        "\n",
        "**Tips**:\n",
        "- Use the functions you had previously written \n",
        "- Use a for loop to replicate [LINEAR->RELU] (L-1) times\n",
        "- Don't forget to keep track of the caches in the \"caches\" list. To add a new value `c` to a `list`, you can use `list.append(c)`."
      ]
    },
    {
      "cell_type": "code",
      "metadata": {
        "id": "qNigNLgYzRI_",
        "colab_type": "code",
        "colab": {}
      },
      "source": [
        "# GRADED FUNCTION: L_model_forward\n",
        "\n",
        "def L_model_forward(X, parameters):\n",
        "    \"\"\"\n",
        "    Implement forward propagation for the [LINEAR->RELU]*(L-1)->LINEAR->SIGMOID computation\n",
        "    \n",
        "    Arguments:\n",
        "    X -- data, tensor of shape (input size, number of examples)\n",
        "    parameters -- output of initialize_parameters_deep()\n",
        "    \n",
        "    Returns:\n",
        "    AL -- last post-activation value\n",
        "    caches -- list of caches containing:\n",
        "                every cache of linear_activation_forward() (there are L-1 of them, indexed from 0 to L-1)\n",
        "    \"\"\"\n",
        "\n",
        "    caches = []\n",
        "    A = X\n",
        "    L = len(parameters) // 2                  # number of layers in the neural network\n",
        "    \n",
        "    # Implement [LINEAR -> RELU]*(L-1). Add \"cache\" to the \"caches\" list.\n",
        "    for l in range(1, L):\n",
        "        A_prev = A \n",
        "        ### START CODE HERE ### (≈ 2 lines of code)\n",
        "        A, cache = linear_activation_forward(A_prev, parameters['W' + str(l)], parameters['b' + str(l)], activation = \"relu\")\n",
        "        caches.append(cache)\n",
        "        ### END CODE HERE ###\n",
        "    \n",
        "    # Implement LINEAR -> SIGMOID. Add \"cache\" to the \"caches\" list.\n",
        "    ### START CODE HERE ### (≈ 2 lines of code)\n",
        "    AL, cache = linear_activation_forward(A, parameters['W' + str(L)],parameters['b' + str(L)], activation = \"sigmoid\")\n",
        "    caches.append(cache)\n",
        "    ### END CODE HERE ###\n",
        "    \n",
        "    assert(AL.shape == (1,X.shape[1]))\n",
        "            \n",
        "    return AL, caches"
      ],
      "execution_count": 0,
      "outputs": []
    },
    {
      "cell_type": "code",
      "metadata": {
        "id": "mSHJV-nzzRJC",
        "colab_type": "code",
        "outputId": "846a487d-e39f-4230-ec43-737b26317f6c",
        "colab": {
          "base_uri": "https://localhost:8080/",
          "height": 52
        }
      },
      "source": [
        "X, parameters = L_model_forward_test_case_2hidden()\n",
        "AL, caches = L_model_forward(X, parameters)\n",
        "print(\"AL = \" + str(AL))\n",
        "print(\"Length of caches list = \" + str(len(caches)))"
      ],
      "execution_count": 38,
      "outputs": [
        {
          "output_type": "stream",
          "text": [
            "AL = tensor([[0.7837043405, 0.7705814242, 0.5695444345, 0.7837043405]])\n",
            "Length of caches list = 3\n"
          ],
          "name": "stdout"
        }
      ]
    },
    {
      "cell_type": "markdown",
      "metadata": {
        "id": "a7XBHCz_zRJE",
        "colab_type": "text"
      },
      "source": [
        "<table style=\"width:50%\">\n",
        "  <tr>\n",
        "    <td> **AL** </td>\n",
        "    <td > [[0.7837043405, 0.7705814242, 0.5695444345, 0.7837043405]]</td> \n",
        "  </tr>\n",
        "  <tr>\n",
        "    <td> **Length of caches list ** </td>\n",
        "    <td > 3 </td> \n",
        "  </tr>\n",
        "</table>"
      ]
    },
    {
      "cell_type": "markdown",
      "metadata": {
        "id": "lah44hoPzRJE",
        "colab_type": "text"
      },
      "source": [
        "Great! Now you have a full forward propagation that takes the input X and outputs a row vector $A^{[L]}$ containing your predictions. It also records all intermediate values in \"caches\". Using $A^{[L]}$, you can compute the cost of your predictions."
      ]
    },
    {
      "cell_type": "markdown",
      "metadata": {
        "id": "uXNzYNG7zRJF",
        "colab_type": "text"
      },
      "source": [
        "## 5 - Cost function\n",
        "\n",
        "Now you will implement forward and backward propagation. You need to compute the cost, because you want to check if your model is actually learning.\n",
        "\n",
        "**Exercise**: Compute the cross-entropy cost $J$, using the following formula: $$-\\frac{1}{m} \\sum\\limits_{i = 1}^{m} (y^{(i)}\\log\\left(a^{[L] (i)}\\right) + (1-y^{(i)})\\log\\left(1- a^{[L](i)}\\right)) \\tag{7}$$\n"
      ]
    },
    {
      "cell_type": "code",
      "metadata": {
        "id": "Jow97bmrzRJG",
        "colab_type": "code",
        "colab": {}
      },
      "source": [
        "# GRADED FUNCTION: compute_cost\n",
        "\n",
        "def compute_cost(AL, Y):\n",
        "    \"\"\"\n",
        "    Implement the cost function defined by equation (7).\n",
        "\n",
        "    Arguments:\n",
        "    AL -- probability vector corresponding to your label predictions, shape (1, number of examples)\n",
        "    Y -- true \"label\" vector (for example: containing 0 if non-cat, 1 if cat), shape (1, number of examples)\n",
        "\n",
        "    Returns:\n",
        "    cost -- cross-entropy cost\n",
        "    \"\"\"\n",
        "    \n",
        "    m = Y.shape[1]\n",
        "\n",
        "    # Compute loss from aL and y.\n",
        "    ### START CODE HERE ### (≈ 1 lines of code)\n",
        "    cost = (-1/m) * ((Y @ torch.log(AL).t() + (1 - Y) @ torch.log(1 - AL).t()))\n",
        "    ### END CODE HERE ###\n",
        "    \n",
        "    cost = torch.squeeze(cost)      # To make sure your cost's shape is what we expect (e.g. this turns [[17]] into 17).\n",
        "    assert(cost.shape == ())\n",
        "    \n",
        "    return cost"
      ],
      "execution_count": 0,
      "outputs": []
    },
    {
      "cell_type": "code",
      "metadata": {
        "id": "cN5kdDPMzRJI",
        "colab_type": "code",
        "outputId": "24735a2c-9139-40c6-c1d9-7ff6ccfe1fee",
        "colab": {
          "base_uri": "https://localhost:8080/",
          "height": 34
        }
      },
      "source": [
        "Y, AL = compute_cost_test_case()\n",
        "print(\"cost = \" + str(compute_cost(AL, Y)))"
      ],
      "execution_count": 40,
      "outputs": [
        {
          "output_type": "stream",
          "text": [
            "cost = tensor(0.2797765732)\n"
          ],
          "name": "stdout"
        }
      ]
    },
    {
      "cell_type": "markdown",
      "metadata": {
        "id": "QlF7RjCdzRJL",
        "colab_type": "text"
      },
      "source": [
        "**Expected Output**:\n",
        "\n",
        "<table>\n",
        "  <tr>\n",
        "    <th>cost</th>\n",
        "    <td> 0.2797765434</td> \n",
        "  </tr>\n",
        "</table>"
      ]
    },
    {
      "cell_type": "markdown",
      "metadata": {
        "id": "UYgpRfoIzRJL",
        "colab_type": "text"
      },
      "source": [
        "## 6 - Backward propagation module\n",
        "\n",
        "Just like with forward propagation, you will implement helper functions for backpropagation. Remember that back propagation is used to calculate the gradient of the loss function with respect to the parameters. \n",
        "\n",
        "**Reminder**: \n",
        "![backprop_kiank.png](https://drive.google.com/uc?id=1zcfEXCB6no5zDjYU9UTxtOc63_LYrBv5)\n",
        "\n",
        "<caption><center> **Figure 3 (backprop_kiank.png)** : Forward and Backward propagation for *LINEAR->RELU->LINEAR->SIGMOID* <br> *The purple blocks represent the forward propagation, and the red blocks represent the backward propagation.*  </center></caption>\n",
        "\n",
        "<!-- \n",
        "For those of you who are expert in calculus (you don't need to be to do this assignment), the chain rule of calculus can be used to derive the derivative of the loss $\\mathcal{L}$ with respect to $z^{[1]}$ in a 2-layer network as follows:\n",
        "\n",
        "$$\\frac{d \\mathcal{L}(a^{[2]},y)}{{dz^{[1]}}} = \\frac{d\\mathcal{L}(a^{[2]},y)}{{da^{[2]}}}\\frac{{da^{[2]}}}{{dz^{[2]}}}\\frac{{dz^{[2]}}}{{da^{[1]}}}\\frac{{da^{[1]}}}{{dz^{[1]}}} \\tag{8} $$\n",
        "\n",
        "In order to calculate the gradient $dW^{[1]} = \\frac{\\partial L}{\\partial W^{[1]}}$, you use the previous chain rule and you do $dW^{[1]} = dz^{[1]} \\times \\frac{\\partial z^{[1]} }{\\partial W^{[1]}}$. During the backpropagation, at each step you multiply your current gradient by the gradient corresponding to the specific layer to get the gradient you wanted.\n",
        "\n",
        "Equivalently, in order to calculate the gradient $db^{[1]} = \\frac{\\partial L}{\\partial b^{[1]}}$, you use the previous chain rule and you do $db^{[1]} = dz^{[1]} \\times \\frac{\\partial z^{[1]} }{\\partial b^{[1]}}$.\n",
        "\n",
        "This is why we talk about **backpropagation**.\n",
        "!-->\n",
        "\n",
        "Now, similar to forward propagation, you are going to build the backward propagation in three steps:\n",
        "- LINEAR backward\n",
        "- LINEAR -> ACTIVATION backward where ACTIVATION computes the derivative of either the ReLU or sigmoid activation\n",
        "- [LINEAR -> RELU] $\\times$ (L-1) -> LINEAR -> SIGMOID backward (whole model)"
      ]
    },
    {
      "cell_type": "markdown",
      "metadata": {
        "id": "sV5qoBVhzRJM",
        "colab_type": "text"
      },
      "source": [
        "### 6.1 - Linear backward\n",
        "\n",
        "For layer $l$, the linear part is: $Z^{[l]} = W^{[l]} A^{[l-1]} + b^{[l]}$ (followed by an activation).\n",
        "\n",
        "Suppose you have already calculated the derivative $dZ^{[l]} = \\frac{\\partial \\mathcal{L} }{\\partial Z^{[l]}}$. You want to get $(dW^{[l]}, db^{[l]}, dA^{[l-1]})$.\n",
        "\n",
        "![linearback_kiank.png](https://drive.google.com/uc?id=1jf7JJ5lzJlGYM78nFkrYsJsKCtItDFSp)\n",
        "\n",
        "\n",
        "<caption><center> **Figure 4 (linearback_kiank.png)** </center></caption>\n",
        "\n",
        "The three outputs $(dW^{[l]}, db^{[l]}, dA^{[l-1]})$ are computed using the input $dZ^{[l]}$.Here are the formulas you need:\n",
        "$$ dW^{[l]} = \\frac{\\partial \\mathcal{J} }{\\partial W^{[l]}} = \\frac{1}{m} dZ^{[l]} A^{[l-1] T} \\tag{8}$$\n",
        "$$ db^{[l]} = \\frac{\\partial \\mathcal{J} }{\\partial b^{[l]}} = \\frac{1}{m} \\sum_{i = 1}^{m} dZ^{[l](i)}\\tag{9}$$\n",
        "$$ dA^{[l-1]} = \\frac{\\partial \\mathcal{L} }{\\partial A^{[l-1]}} = W^{[l] T} dZ^{[l]} \\tag{10}$$\n"
      ]
    },
    {
      "cell_type": "markdown",
      "metadata": {
        "id": "PXur80D5zRJN",
        "colab_type": "text"
      },
      "source": [
        "**Exercise**: Use the 3 formulas above to implement linear_backward()."
      ]
    },
    {
      "cell_type": "code",
      "metadata": {
        "id": "SQGaIz1OzRJO",
        "colab_type": "code",
        "colab": {}
      },
      "source": [
        "# GRADED FUNCTION: linear_backward\n",
        "\n",
        "def linear_backward(dZ, cache):\n",
        "    \"\"\"\n",
        "    Implement the linear portion of backward propagation for a single layer (layer l)\n",
        "\n",
        "    Arguments:\n",
        "    dZ -- Gradient of the cost with respect to the linear output (of current layer l)\n",
        "    cache -- tuple of values (A_prev, W, b) coming from the forward propagation in the current layer\n",
        "\n",
        "    Returns:\n",
        "    dA_prev -- Gradient of the cost with respect to the activation (of the previous layer l-1), same shape as A_prev\n",
        "    dW -- Gradient of the cost with respect to W (current layer l), same shape as W\n",
        "    db -- Gradient of the cost with respect to b (current layer l), same shape as b\n",
        "    \"\"\"\n",
        "    A_prev, W, b = cache\n",
        "    m = A_prev.shape[1]\n",
        "\n",
        "    ### START CODE HERE ### (≈ 3 lines of code)\n",
        "    dA_prev = W.t()@dZ\n",
        "    dW = 1/m *(dZ @ A_prev.t()) \n",
        "    db =  1/m * dZ.sum(1, keepdim=True)                  \n",
        "    ### END CODE HERE ###\n",
        "    \n",
        "    assert (dA_prev.shape == A_prev.shape)\n",
        "    assert (dW.shape == W.shape)\n",
        "    assert (db.shape == b.shape)\n",
        "    \n",
        "    return dA_prev, dW, db"
      ],
      "execution_count": 0,
      "outputs": []
    },
    {
      "cell_type": "code",
      "metadata": {
        "id": "EsZJiNp8zRJR",
        "colab_type": "code",
        "outputId": "7f3e8362-8937-4e7b-8650-3c12d5d2ab8a",
        "colab": {
          "base_uri": "https://localhost:8080/",
          "height": 260
        }
      },
      "source": [
        "# Set up some test inputs\n",
        "dZ, linear_cache = linear_backward_test_case()\n",
        "\n",
        "dA_prev, dW, db = linear_backward(dZ, linear_cache)\n",
        "print (\"dA_prev = \"+ str(dA_prev))\n",
        "print (\"dW = \" + str(dW))\n",
        "print (\"db = \" + str(db))"
      ],
      "execution_count": 42,
      "outputs": [
        {
          "output_type": "stream",
          "text": [
            "dA_prev = tensor([[-0.8316336274, -0.3802693784, -0.1003148183, -0.6336339712],\n",
            "        [-0.7257670760, -0.3817131817, -1.8475147486,  0.6139277816],\n",
            "        [ 0.8353895545,  0.4270242155,  0.9488694072,  0.0108328313],\n",
            "        [-2.0349035263, -0.9647823572,  0.2986161709, -1.7612611055],\n",
            "        [ 0.9973999858,  0.5078689456,  0.2876567841,  0.5071032047]])\n",
            "dW = tensor([[ 0.1632022560,  0.1284346581, -0.1838184297, -0.1737741232,\n",
            "         -0.0176431704],\n",
            "        [-0.7802008390, -0.1271579564,  0.0151971653, -0.0429767892,\n",
            "         -0.0452116542],\n",
            "        [-0.6705543399, -0.0343476534,  0.1530921608,  0.0376261622,\n",
            "         -0.1165488437]])\n",
            "db = tensor([[ 0.4028177261],\n",
            "        [-0.4397802055],\n",
            "        [-0.6353005171]])\n"
          ],
          "name": "stdout"
        }
      ]
    },
    {
      "cell_type": "markdown",
      "metadata": {
        "id": "biEZy6o2zRJT",
        "colab_type": "text"
      },
      "source": [
        "** Expected Output**:\n",
        "    \n",
        "```\n",
        "dA_prev = \n",
        " [[-0.8316336274, -0.3802693784, -0.1003148183, -0.6336339712],\n",
        "        [-0.7257670760, -0.3817131817, -1.8475147486,  0.6139277816],\n",
        "        [ 0.8353895545,  0.4270242155,  0.9488694072,  0.0108328313],\n",
        "        [-2.0349035263, -0.9647823572,  0.2986161709, -1.7612611055],\n",
        "        [ 0.9973999858,  0.5078689456,  0.2876567841,  0.5071032047]]\n",
        "dW = \n",
        " [[ 0.1632022560,  0.1284346581, -0.1838184297, -0.1737741232,\n",
        "         -0.0176431704],\n",
        "        [-0.7802008390, -0.1271579564,  0.0151971653, -0.0429767892,\n",
        "         -0.0452116542],\n",
        "        [-0.6705543399, -0.0343476534,  0.1530921608,  0.0376261622,\n",
        "         -0.1165488437]]\n",
        "db = \n",
        " [[ 0.4028177261],\n",
        "        [-0.4397802055],\n",
        "        [-0.6353005171]]\n",
        "```"
      ]
    },
    {
      "cell_type": "markdown",
      "metadata": {
        "id": "bMtmfjH2zRJU",
        "colab_type": "text"
      },
      "source": [
        "### 6.2 - Linear-Activation backward\n",
        "\n",
        "Next, you will create a function that merges the two helper functions: **`linear_backward`** and the backward step for the activation **`linear_activation_backward`**. \n",
        "\n",
        "To help you implement `linear_activation_backward`, we provided two backward functions:\n",
        "- **`sigmoid_backward`**: Implements the backward propagation for SIGMOID unit. You can call it as follows:\n",
        "\n",
        "```python\n",
        "dZ = sigmoid_backward(dA, activation_cache)\n",
        "```\n",
        "\n",
        "- **`relu_backward`**: Implements the backward propagation for RELU unit. You can call it as follows:\n",
        "\n",
        "```python\n",
        "dZ = relu_backward(dA, activation_cache)\n",
        "```\n",
        "\n",
        "If $g(.)$ is the activation function, \n",
        "`sigmoid_backward` and `relu_backward` compute $$dZ^{[l]} = dA^{[l]} * g'(Z^{[l]}) \\tag{11}$$.  \n",
        "\n",
        "**Exercise**: Implement the backpropagation for the *LINEAR->ACTIVATION* layer."
      ]
    },
    {
      "cell_type": "code",
      "metadata": {
        "id": "DFfKdSCozRJd",
        "colab_type": "code",
        "colab": {}
      },
      "source": [
        "# GRADED FUNCTION: linear_activation_backward\n",
        "\n",
        "def linear_activation_backward(dA, cache, activation):\n",
        "    \"\"\"\n",
        "    Implement the backward propagation for the LINEAR->ACTIVATION layer.\n",
        "    \n",
        "    Arguments:\n",
        "    dA -- post-activation gradient for current layer l \n",
        "    cache -- tuple of values (linear_cache, activation_cache) we store for computing backward propagation efficiently\n",
        "    activation -- the activation to be used in this layer, stored as a text string: \"sigmoid\" or \"relu\"\n",
        "    \n",
        "    Returns:\n",
        "    dA_prev -- Gradient of the cost with respect to the activation (of the previous layer l-1), same shape as A_prev\n",
        "    dW -- Gradient of the cost with respect to W (current layer l), same shape as W\n",
        "    db -- Gradient of the cost with respect to b (current layer l), same shape as b\n",
        "    \"\"\"\n",
        "    linear_cache, activation_cache = cache\n",
        "    \n",
        "    if activation == \"relu\":\n",
        "        ### START CODE HERE ### (≈ 2 lines of code)\n",
        "        dZ = relu_backward(dA,activation_cache)\n",
        "        dA_prev, dW, db = linear_backward(dZ,linear_cache)\n",
        "        ### END CODE HERE ###\n",
        "                \n",
        "    elif activation == \"sigmoid\":\n",
        "        ### START CODE HERE ### (≈ 2 lines of code)\n",
        "        dZ = sigmoid_backward(dA,activation_cache)\n",
        "        dA_prev, dW, db = linear_backward(dZ,linear_cache)\n",
        "        ### END CODE HERE ###\n",
        "            \n",
        "    return dA_prev, dW, db"
      ],
      "execution_count": 0,
      "outputs": []
    },
    {
      "cell_type": "code",
      "metadata": {
        "id": "EOhdJtfNzRJf",
        "colab_type": "code",
        "outputId": "d6869201-2b50-49bc-990b-edbb7dc23daf",
        "colab": {
          "base_uri": "https://localhost:8080/",
          "height": 242
        }
      },
      "source": [
        "dAL, linear_activation_cache = linear_activation_backward_test_case()\n",
        "\n",
        "dA_prev, dW, db = linear_activation_backward(dAL, linear_activation_cache, activation = \"sigmoid\")\n",
        "print (\"sigmoid:\")\n",
        "print (\"dA_prev = \"+ str(dA_prev))\n",
        "print (\"dW = \" + str(dW))\n",
        "print (\"db = \" + str(db) + \"\\n\")\n",
        "\n",
        "dA_prev, dW, db = linear_activation_backward(dAL, linear_activation_cache, activation = \"relu\")\n",
        "print (\"relu:\")\n",
        "print (\"dA_prev = \"+ str(dA_prev))\n",
        "print (\"dW = \" + str(dW))\n",
        "print (\"db = \" + str(db))"
      ],
      "execution_count": 44,
      "outputs": [
        {
          "output_type": "stream",
          "text": [
            "sigmoid:\n",
            "dA_prev = tensor([[-0.0254830271,  0.0152399382],\n",
            "        [-0.0677984580,  0.0405463725],\n",
            "        [ 0.0857409015, -0.0512767211]])\n",
            "dW = tensor([[0.0130424909, 0.0462693349, 0.0081148185]])\n",
            "db = tensor([[0.0130683035]])\n",
            "\n",
            "relu:\n",
            "dA_prev = tensor([[-0., 0.],\n",
            "        [-0., 0.],\n",
            "        [0., -0.]])\n",
            "dW = tensor([[0., 0., 0.]])\n",
            "db = tensor([[0.]])\n"
          ],
          "name": "stdout"
        }
      ]
    },
    {
      "cell_type": "markdown",
      "metadata": {
        "id": "z_vsY-MyzRJi",
        "colab_type": "text"
      },
      "source": [
        "**Expected output with sigmoid:**\n",
        "\n",
        "\n",
        "<table style=\"width:100%\">\n",
        "  <tr>\n",
        "    <td > dA_prev </td> \n",
        "    <td >[[-0.0254830271,  0.0152399382],\n",
        "        [-0.0677984580,  0.0405463725],\n",
        "        [ 0.0857409015, -0.0512767211]] \n",
        "    </td> \n",
        "\n",
        "  </tr> \n",
        "  \n",
        "  <tr>\n",
        "    <td > dW </td> \n",
        "    <td > [[0.0130424909, 0.0462693349, 0.0081148185]] </td> \n",
        "  </tr> \n",
        "  \n",
        "  <tr>\n",
        "    <td > db </td> \n",
        "    <td > [[0.0130683035]] </td> \n",
        "  </tr> \n",
        "</table>\n",
        "\n"
      ]
    },
    {
      "cell_type": "markdown",
      "metadata": {
        "id": "uz2PITWOzRJi",
        "colab_type": "text"
      },
      "source": [
        "**Expected output with relu:**\n",
        "\n",
        "<table style=\"width:100%\">\n",
        "  <tr>\n",
        "    <td > dA_prev </td> \n",
        "    <td > [[-0., 0.],\n",
        "        [-0., 0.],\n",
        "        [0., -0.]] \n",
        "    </td>\n",
        "  </tr> \n",
        "  \n",
        "  <tr>\n",
        "    <td > dW </td> \n",
        "    <td > [[0., 0., 0.]] </td> \n",
        "  </tr> \n",
        "  \n",
        "  <tr>\n",
        "    <td > db </td> \n",
        "    <td > [[0.]] </td> \n",
        "  </tr> \n",
        "</table>\n",
        "\n"
      ]
    },
    {
      "cell_type": "markdown",
      "metadata": {
        "id": "trdo9T4TzRJj",
        "colab_type": "text"
      },
      "source": [
        "### 6.3 - L-Model Backward \n",
        "\n",
        "Now you will implement the backward function for the whole network. Recall that when you implemented the `L_model_forward` function, at each iteration, you stored a cache which contains (X,W,b, and z). In the back propagation module, you will use those variables to compute the gradients. Therefore, in the `L_model_backward` function, you will iterate through all the hidden layers backward, starting from layer $L$. On each step, you will use the cached values for layer $l$ to backpropagate through layer $l$. Figure 5 below shows the backward pass. \n",
        "\n",
        "![mn_backward.png](https://drive.google.com/uc?id=1fqPjAk0p3JYqElL3qlcHLC-BARSYhIpo)\n",
        "\n",
        "<caption><center>  **Figure 5 (mn_backward.png)** : Backward pass  </center></caption>\n",
        "\n",
        "** Initializing backpropagation**:\n",
        "To backpropagate through this network, we know that the output is, \n",
        "$A^{[L]} = \\sigma(Z^{[L]})$. Your code thus needs to compute `dAL` $= \\frac{\\partial \\mathcal{L}}{\\partial A^{[L]}}$.\n",
        "To do so, use this formula (derived using calculus which you don't need in-depth knowledge of):\n",
        "```python\n",
        "dAL = - (torch.div(Y, AL) - torch.div(1 - Y, 1 - AL)) # derivative of cost with respect to AL\n",
        "```\n",
        "\n",
        "You can then use this post-activation gradient `dAL` to keep going backward. As seen in Figure 5, you can now feed in `dAL` into the LINEAR->SIGMOID backward function you implemented (which will use the cached values stored by the L_model_forward function). After that, you will have to use a `for` loop to iterate through all the other layers using the LINEAR->RELU backward function. You should store each dA, dW, and db in the grads dictionary. To do so, use this formula : \n",
        "\n",
        "$$grads[\"dW\" + str(l)] = dW^{[l]}\\tag{15} $$\n",
        "\n",
        "For example, for $l=3$ this would store $dW^{[l]}$ in `grads[\"dW3\"]`.\n",
        "\n",
        "**Exercise**: Implement backpropagation for the *[LINEAR->RELU] $\\times$ (L-1) -> LINEAR -> SIGMOID* model."
      ]
    },
    {
      "cell_type": "code",
      "metadata": {
        "id": "guWTdstTzRJk",
        "colab_type": "code",
        "colab": {}
      },
      "source": [
        "# GRADED FUNCTION: L_model_backward\n",
        "\n",
        "def L_model_backward(AL, Y, caches):\n",
        "    \"\"\"\n",
        "    Implement the backward propagation for the [LINEAR->RELU] * (L-1) -> LINEAR -> SIGMOID group\n",
        "    \n",
        "    Arguments:\n",
        "    AL -- probability vector, output of the forward propagation (L_model_forward())\n",
        "    Y -- true \"label\" vector (containing 0 if non-cat, 1 if cat)\n",
        "    caches -- list of caches containing:\n",
        "                every cache of linear_activation_forward() with \"relu\" (it's caches[l], for l in range(L-1) i.e l = 0...L-2)\n",
        "                the cache of linear_activation_forward() with \"sigmoid\" (it's caches[L-1])\n",
        "    \n",
        "    Returns:\n",
        "    grads -- A dictionary with the gradients\n",
        "             grads[\"dA\" + str(l)] = ... \n",
        "             grads[\"dW\" + str(l)] = ...\n",
        "             grads[\"db\" + str(l)] = ... \n",
        "    \"\"\"\n",
        "    grads = {}\n",
        "    L = len(caches) # the number of layers\n",
        "    m = AL.shape[1]\n",
        "    Y = Y.reshape(AL.shape) # after this line, Y is the same shape as AL\n",
        "    \n",
        "    # Initializing the backpropagation\n",
        "    ### START CODE HERE ### (1 line of code)\n",
        "    dAL = - (torch.div(Y, AL) - torch.div(1 - Y, 1 - AL))\n",
        "    ### END CODE HERE ###\n",
        "    \n",
        "    # Lth layer (SIGMOID -> LINEAR) gradients. Inputs: \"dAL, current_cache\". Outputs: \"grads[\"dAL-1\"], grads[\"dWL\"], grads[\"dbL\"]\n",
        "    ### START CODE HERE ### (approx. 2 lines)\n",
        "    current_cache = caches[L-1]\n",
        "    grads[\"dA\" + str(L-1)], grads[\"dW\" + str(L)], grads[\"db\" + str(L)] = linear_activation_backward(dAL, current_cache, activation = \"sigmoid\")\n",
        "    ### END CODE HERE ###\n",
        "    \n",
        "    # Loop from l=L-2 to l=0\n",
        "    for l in reversed(range(L-1)):\n",
        "        # lth layer: (RELU -> LINEAR) gradients.\n",
        "        # Inputs: \"grads[\"dA\" + str(l + 1)], current_cache\". Outputs: \"grads[\"dA\" + str(l)] , grads[\"dW\" + str(l + 1)] , grads[\"db\" + str(l + 1)] \n",
        "        ### START CODE HERE ### (approx. 5 lines)\n",
        "        current_cache = caches[l]\n",
        "        dA_prev_temp, dW_temp, db_temp = linear_activation_backward(grads[\"dA\" + str(l+1)], current_cache, activation = \"relu\")\n",
        "        grads[\"dA\" + str(l)] = dA_prev_temp\n",
        "        grads[\"dW\" + str(l + 1)] = dW_temp\n",
        "        grads[\"db\" + str(l + 1)] = db_temp\n",
        "        ### END CODE HERE ###\n",
        "\n",
        "    return grads"
      ],
      "execution_count": 0,
      "outputs": []
    },
    {
      "cell_type": "code",
      "metadata": {
        "id": "1kPVh1KYzRJl",
        "colab_type": "code",
        "outputId": "2a8b93a9-3ee6-46de-d4c7-4014bc462e10",
        "colab": {
          "base_uri": "https://localhost:8080/",
          "height": 173
        }
      },
      "source": [
        "AL, Y_assess, caches = L_model_backward_test_case()\n",
        "grads = L_model_backward(AL, Y_assess, caches)\n",
        "print_grads(grads)"
      ],
      "execution_count": 46,
      "outputs": [
        {
          "output_type": "stream",
          "text": [
            "dW1 = tensor([[-0.0137194376, -0.0071208226, -0.0520380065,  0.2212887704],\n",
            "        [ 0.0295770243,  0.0153514119,  0.1121860445, -0.4770649970],\n",
            "        [-0.0151281655, -0.0337276235,  0.0249240343,  0.0240937192]])\n",
            "db1 = tensor([[-0.1541889310],\n",
            "        [ 0.3324079216],\n",
            "        [ 0.0246500261]])\n",
            "dA1 = tensor([[-0.3083778620,  0.2361355573],\n",
            "        [ 0.6648158431, -0.5090724230],\n",
            "        [-0.0643826947,  0.0493000522]])\n"
          ],
          "name": "stdout"
        }
      ]
    },
    {
      "cell_type": "markdown",
      "metadata": {
        "id": "eIR41oXBzRJn",
        "colab_type": "text"
      },
      "source": [
        "**Expected Output**\n",
        "\n",
        "<table style=\"width:60%\">\n",
        "  \n",
        "  <tr>\n",
        "    <td > dW1 </td> \n",
        "           <td > [[-0.0137194376, -0.0071208226, -0.0520380065,  0.2212887704],\n",
        "        [ 0.0295770243,  0.0153514119,  0.1121860445, -0.4770649970],\n",
        "        [-0.0151281655, -0.0337276235,  0.0249240343,  0.0240937192]] </td> \n",
        "  </tr> \n",
        "  \n",
        "  <tr>\n",
        "    <td > db1 </td> \n",
        "           <td > [[-0.1541889310],\n",
        "        [ 0.3324079216],\n",
        "        [ 0.0246500261]] </td> \n",
        "  </tr> \n",
        "  \n",
        "  <tr>\n",
        "  <td > dA1 </td> \n",
        "           <td > [[-0.3083778620,  0.2361355573],\n",
        "        [ 0.6648158431, -0.5090724230],\n",
        "        [-0.0643826947,  0.0493000522]] </td> \n",
        "\n",
        "  </tr> \n",
        "</table>\n",
        "\n"
      ]
    },
    {
      "cell_type": "markdown",
      "metadata": {
        "id": "a1P_7vkzzRJo",
        "colab_type": "text"
      },
      "source": [
        "### 6.4 - Update Parameters\n",
        "\n",
        "In this section you will update the parameters of the model, using gradient descent: \n",
        "\n",
        "$$ W^{[l]} = W^{[l]} - \\alpha \\text{ } dW^{[l]} \\tag{16}$$\n",
        "$$ b^{[l]} = b^{[l]} - \\alpha \\text{ } db^{[l]} \\tag{17}$$\n",
        "\n",
        "where $\\alpha$ is the learning rate. After computing the updated parameters, store them in the parameters dictionary. "
      ]
    },
    {
      "cell_type": "markdown",
      "metadata": {
        "id": "C7jCXLRRzRJo",
        "colab_type": "text"
      },
      "source": [
        "**Exercise**: Implement `update_parameters()` to update your parameters using gradient descent.\n",
        "\n",
        "**Instructions**:\n",
        "Update parameters using gradient descent on every $W^{[l]}$ and $b^{[l]}$ for $l = 1, 2, ..., L$. \n"
      ]
    },
    {
      "cell_type": "code",
      "metadata": {
        "id": "-USdTWP0zRJp",
        "colab_type": "code",
        "colab": {}
      },
      "source": [
        "# GRADED FUNCTION: update_parameters\n",
        "\n",
        "def update_parameters(parameters, grads, learning_rate):\n",
        "    \"\"\"\n",
        "    Update parameters using gradient descent\n",
        "    \n",
        "    Arguments:\n",
        "    parameters -- python dictionary containing your parameters \n",
        "    grads -- python dictionary containing your gradients, output of L_model_backward\n",
        "    \n",
        "    Returns:\n",
        "    parameters -- python dictionary containing your updated parameters \n",
        "                  parameters[\"W\" + str(l)] = ... \n",
        "                  parameters[\"b\" + str(l)] = ...\n",
        "    \"\"\"\n",
        "    \n",
        "    L = len(parameters) // 2 # number of layers in the neural network\n",
        "\n",
        "    # Update rule for each parameter. Use a for loop.\n",
        "    ### START CODE HERE ### (≈ 3 lines of code)\n",
        "    for l in range(L):\n",
        "        parameters[\"W\" + str(l+1)] = parameters[\"W\" + str(l+1)] - learning_rate * grads[\"dW\"+ str(l+1)]\n",
        "        parameters[\"b\" + str(l+1)] = parameters[\"b\" + str(l+1)] - learning_rate * grads[\"db\"+ str(l+1)]\n",
        "    ### END CODE HERE ###\n",
        "    return parameters"
      ],
      "execution_count": 0,
      "outputs": []
    },
    {
      "cell_type": "code",
      "metadata": {
        "id": "BI0Wd5utzRJs",
        "colab_type": "code",
        "outputId": "21e7ca3b-47a5-40ec-ef99-a8d3d0014a24",
        "colab": {
          "base_uri": "https://localhost:8080/",
          "height": 156
        }
      },
      "source": [
        "parameters, grads = update_parameters_test_case()\n",
        "parameters = update_parameters(parameters, grads, 0.1)\n",
        "\n",
        "print (\"W1 = \"+ str(parameters[\"W1\"]))\n",
        "print (\"b1 = \"+ str(parameters[\"b1\"]))\n",
        "print (\"W2 = \"+ str(parameters[\"W2\"]))\n",
        "print (\"b2 = \"+ str(parameters[\"b2\"]))"
      ],
      "execution_count": 48,
      "outputs": [
        {
          "output_type": "stream",
          "text": [
            "W1 = tensor([[ 0.3119692206, -0.2410473526, -0.3283980787, -1.1436653137],\n",
            "        [ 1.0398452282, -0.4964017868,  0.5393572450,  0.4398358464],\n",
            "        [-0.2483879030, -1.1404219866,  1.2664123774,  0.6238473058]])\n",
            "b1 = tensor([[-1.2400170565],\n",
            "        [-1.2711932659],\n",
            "        [-0.1447267979]])\n",
            "W2 = tensor([[-0.9417777061,  0.5254638195, -0.3200427592]])\n",
            "b2 = tensor([[-0.0250098575]])\n"
          ],
          "name": "stdout"
        }
      ]
    },
    {
      "cell_type": "markdown",
      "metadata": {
        "id": "uwXz8a3ZzRJu",
        "colab_type": "text"
      },
      "source": [
        "**Expected Output**:\n",
        "\n",
        "<table style=\"width:100%\"> \n",
        "    <tr>\n",
        "    <td > W1 </td> \n",
        "           <td > [[ 0.3119692206, -0.2410473526, -0.3283980787, -1.1436653137],\n",
        "        [ 1.0398452282, -0.4964017868,  0.5393572450,  0.4398358464],\n",
        "        [-0.2483879030, -1.1404219866,  1.2664123774,  0.6238473058]] </td> \n",
        "  </tr> \n",
        "  \n",
        "  <tr>\n",
        "    <td > b1 </td> \n",
        "           <td > [[-1.2400170565],\n",
        "        [-1.2711932659],\n",
        "        [-0.1447267979]] </td> \n",
        "  </tr> \n",
        "  <tr>\n",
        "    <td > W2 </td> \n",
        "           <td > [[-0.9417777061,  0.5254638195, -0.3200427592]]</td> \n",
        "  </tr> \n",
        "  \n",
        "  <tr>\n",
        "    <td > b2 </td> \n",
        "           <td > [[-0.0250098575]] </td> \n",
        "  </tr> \n",
        "</table>\n"
      ]
    },
    {
      "cell_type": "markdown",
      "metadata": {
        "id": "f2_GkIxyzRJv",
        "colab_type": "text"
      },
      "source": [
        "\n",
        "## 7 - Conclusion\n",
        "\n",
        "Congrats on implementing all the functions required for building a deep neural network! "
      ]
    }
  ]
}